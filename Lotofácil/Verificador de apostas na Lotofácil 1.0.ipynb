{
 "cells": [
  {
   "cell_type": "markdown",
   "id": "838a4e83-efdf-4bfb-b2c8-9198f94d2aa0",
   "metadata": {},
   "source": [
    "## Verificador de Jogos para a Lotofácil"
   ]
  },
  {
   "cell_type": "code",
   "execution_count": 18,
   "id": "470a5828-7844-4047-a2c6-6c9fa8d7b017",
   "metadata": {},
   "outputs": [
    {
     "name": "stdout",
     "output_type": "stream",
     "text": [
      "\n",
      "##############################################################################################\n",
      "########################### Verificador de jogos para a Lotofácil ############################\n",
      "##############################################################################################\n",
      "\n"
     ]
    },
    {
     "name": "stdin",
     "output_type": "stream",
     "text": [
      "Digite o caminho do arquivo CSV com os jogos da Lotofácil:  /home/assum-p2/Documents/LotoPy/Lotofácil/base_dados_ltfacil.csv\n",
      "Digite os números sorteados (separados por espaço):  02 03 04 05 07 08 09 11 14 17 19 20 22 23 25\n"
     ]
    },
    {
     "name": "stdout",
     "output_type": "stream",
     "text": [
      "-----------------------------------------------------------------------------------------------------------------\n",
      "Jogo 1: [2, 3, 4, 5, 7, 8, 10, 12, 13, 16, 17, 18, 20, 23, 25] - Acertos: 10\n",
      "Jogo 2: [3, 4, 6, 9, 10, 11, 12, 14, 16, 17, 18, 19, 20, 21, 25] - Acertos: 9\n",
      "Jogo 3: [3, 4, 5, 7, 9, 12, 13, 16, 17, 18, 20, 21, 22, 24, 25] - Acertos: 9\n",
      "Jogo 4: [2, 3, 6, 7, 8, 9, 11, 16, 17, 19, 20, 21, 22, 23, 24] - Acertos: 11\n",
      "Jogo 5: [1, 3, 4, 5, 7, 9, 10, 12, 13, 14, 15, 16, 19, 20, 21] - Acertos: 8\n",
      "Jogo 6: [1, 2, 4, 5, 7, 8, 10, 12, 13, 18, 20, 21, 22, 23, 24] - Acertos: 8\n",
      "Jogo 7: [1, 3, 6, 8, 9, 11, 13, 14, 15, 16, 17, 20, 22, 24, 25] - Acertos: 9\n",
      "Jogo 8: [2, 4, 5, 6, 7, 8, 9, 11, 13, 14, 15, 16, 17, 19, 25] - Acertos: 11\n",
      "Jogo 9: [2, 4, 5, 7, 8, 11, 12, 13, 14, 16, 17, 18, 21, 23, 25] - Acertos: 10\n",
      "Jogo 10: [1, 3, 6, 8, 9, 11, 12, 13, 14, 15, 17, 18, 21, 22, 25] - Acertos: 8\n",
      "Jogo 11: [2, 4, 5, 7, 9, 10, 11, 12, 14, 15, 16, 18, 19, 23, 24] - Acertos: 9\n",
      "Data e Hora: 2024-01-07 21:05:07\n",
      "-----------------------------------------------------------------------------------------------------------------\n",
      "PDF salvo com sucesso em: /home/assum-p2/Documents/LotoPy/Lotofácil/Jogo_CONFERIDO_Lotofacil_2024-01-07_21-05-07.pdf\n"
     ]
    }
   ],
   "source": [
    "import csv\n",
    "from datetime import datetime\n",
    "from reportlab.pdfgen import canvas\n",
    "from reportlab.lib.pagesizes import letter\n",
    "import os\n",
    "\n",
    "print(\"\"\"\n",
    "##############################################################################################\n",
    "########################### Verificador de jogos para a Lotofácil ############################\n",
    "##############################################################################################\n",
    "\"\"\")\n",
    "\n",
    "def conferir_resultados(caminho_csv, numeros_sorteados):\n",
    "    resultados = []\n",
    "    try:\n",
    "        with open(caminho_csv, newline='') as arquivo_csv:\n",
    "            leitor_csv = csv.reader(arquivo_csv)\n",
    "            \n",
    "            for i, linha in enumerate(leitor_csv, start=1):\n",
    "                try:\n",
    "                    jogo = [int(dezena) for dezena in linha]\n",
    "                    acertos = len(set(jogo) & set(numeros_sorteados))\n",
    "                    resultado = f\"Jogo {i}: {jogo} - Acertos: {acertos}\"\n",
    "                    resultados.append(resultado)\n",
    "                    print(resultado)\n",
    "                except ValueError:\n",
    "                    resultado = f\"Erro na linha {i}: Formato inválido\"\n",
    "                    resultados.append(resultado)\n",
    "                    print(resultado)\n",
    "    except FileNotFoundError:\n",
    "        resultado = \"Arquivo CSV não encontrado.\"\n",
    "        resultados.append(resultado)\n",
    "        print(resultado)\n",
    "    except Exception as e:\n",
    "        resultado = f\"Ocorreu um erro: {e}\"\n",
    "        resultados.append(resultado)\n",
    "        print(resultado)\n",
    "\n",
    "    return resultados\n",
    "\n",
    "def salvar_resultado_pdf(caminho_csv, resultados):\n",
    "    data_hora = datetime.now().strftime(\"%Y-%m-%d_%H-%M-%S\")\n",
    "    nome_arquivo = f\"Jogo_CONFERIDO_Lotofacil_{data_hora}.pdf\"\n",
    "    \n",
    "    diretorio_csv = os.path.dirname(caminho_csv)\n",
    "    caminho_pdf = os.path.join(diretorio_csv, nome_arquivo)\n",
    "\n",
    "    c = canvas.Canvas(caminho_pdf, pagesize=letter)\n",
    "    c.drawString(100, 720, f\"Jogos CONFERIDOS da Lotofácil.\")\n",
    "    c.drawString(100, 700, f\"Data e Hora: {datetime.now().strftime('%Y-%m-%d %H:%M:%S')}\")\n",
    "    c.drawString(100, 685, \"-\" * 113)\n",
    "\n",
    "    for i, resultado in enumerate(resultados, start=1):\n",
    "        c.drawString(100, 670 - (i * 20), resultado)\n",
    "\n",
    "    c.drawString(100, 50, \"-\" * 113)\n",
    "    c.save()\n",
    "\n",
    "    return caminho_pdf\n",
    "\n",
    "if __name__ == \"__main__\":\n",
    "    caminho_csv = input(\"Digite o caminho do arquivo CSV com os jogos da Lotofácil: \")\n",
    "    \n",
    "    numeros_sorteados = input(\"Digite os números sorteados (separados por espaço): \")\n",
    "    print(\"-\" * 113)\n",
    "\n",
    "    numeros_sorteados = [int(num) for num in numeros_sorteados.split()]\n",
    "\n",
    "    resultados = conferir_resultados(caminho_csv, numeros_sorteados)\n",
    "\n",
    "    caminho_pdf = salvar_resultado_pdf(caminho_csv, resultados)\n",
    "\n",
    "    print(f\"Data e Hora: {datetime.now().strftime('%Y-%m-%d %H:%M:%S')}\")\n",
    "    print(\"-\" * 113)\n",
    "\n",
    "    print(f\"PDF salvo com sucesso em: {caminho_pdf}\")"
   ]
  },
  {
   "cell_type": "code",
   "execution_count": null,
   "id": "58a1fb1b-d57a-4808-bcba-dcb9929b4a8c",
   "metadata": {},
   "outputs": [],
   "source": []
  }
 ],
 "metadata": {
  "kernelspec": {
   "display_name": "Python 3 (ipykernel)",
   "language": "python",
   "name": "python3"
  },
  "language_info": {
   "codemirror_mode": {
    "name": "ipython",
    "version": 3
   },
   "file_extension": ".py",
   "mimetype": "text/x-python",
   "name": "python",
   "nbconvert_exporter": "python",
   "pygments_lexer": "ipython3",
   "version": "3.10.12"
  }
 },
 "nbformat": 4,
 "nbformat_minor": 5
}
