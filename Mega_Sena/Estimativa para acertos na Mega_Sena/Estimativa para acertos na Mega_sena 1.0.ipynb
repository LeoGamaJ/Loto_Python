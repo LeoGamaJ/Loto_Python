{
 "cells": [
  {
   "cell_type": "markdown",
   "id": "2ec49253",
   "metadata": {},
   "source": [
    "## Calculando a estimativa da relação entre quantidade de jogos e probabilidade"
   ]
  },
  {
   "cell_type": "markdown",
   "id": "b0796c31",
   "metadata": {},
   "source": [
    "### Este programa calcula a probabilidade e percentual estatístico de acertar na Mega Sena (seis, quatro ou cinco acertos) de acordo com o número de jogos realizados."
   ]
  },
  {
   "cell_type": "code",
   "execution_count": 2,
   "id": "e7ed4306",
   "metadata": {},
   "outputs": [
    {
     "name": "stdout",
     "output_type": "stream",
     "text": [
      "\n",
      "##################################################################################################\n",
      "################################ ESTIMATIVA PARA  MEGA SENA ######################################\n",
      "##################################################################################################\n",
      "      \n",
      "Digite o número de jogos: 78\n",
      "---------------------------------------------------------------------------------------------------\n",
      "A probabilidade de ganhar na sena uma vez com 78 jogos é de aproximadamente 1 em 641,845.\n",
      "O que corresponde a uma chance percentual de 0.000156%.\n",
      "\n",
      "---------------------------------------------------------------------------------------------------\n",
      "A probabilidade de acertar 5 dos 6 números da sena com 78 jogos é de aproximadamente 1 em 70,020.\n",
      "O que corresponde a uma chance percentual de 0.001428%.\n",
      "\n",
      "---------------------------------------------------------------------------------------------------\n",
      "A probabilidade de acertar 4 dos 6 números da sena com 78 jogos é de aproximadamente 1 em 6,252.\n",
      "O que corresponde a uma chance percentual de 0.015994%.\n",
      "\n",
      "---------------------------------------------------------------------------------------------------\n"
     ]
    }
   ],
   "source": [
    "import math\n",
    "\n",
    "print(\"\"\"\n",
    "##################################################################################################\n",
    "################################ ESTIMATIVA PARA  MEGA SENA ######################################\n",
    "##################################################################################################\n",
    "      \"\"\")\n",
    "\n",
    "\n",
    "def calcular_probabilidade_mega_sena(jogos):\n",
    "    # Números de combinações possíveis para acertar 6, 5 e 4 números em um jogo\n",
    "    combinacoes_sena = math.factorial(60) / (math.factorial(6) * math.factorial(60 - 6))\n",
    "    combinacoes_quina = math.factorial(60) / (math.factorial(5) * math.factorial(60 - 5))\n",
    "    combinacoes_quadra = math.factorial(60) / (math.factorial(4) * math.factorial(60 - 4))\n",
    "\n",
    "    # A probabilidade individual de ganhar em um jogo único\n",
    "    chance_individual_sena = 1 / combinacoes_sena\n",
    "    chance_individual_quina = 1 / combinacoes_quina\n",
    "    chance_individual_quadra = 1 / combinacoes_quadra\n",
    "\n",
    "    # A probabilidade total de ganhar em pelo menos um dos jogos\n",
    "    chance_total_sena = 1 - (1 - chance_individual_sena) ** jogos\n",
    "    chance_total_quina = 1 - (1 - chance_individual_quina) ** jogos\n",
    "    chance_total_quadra = 1 - (1 - chance_individual_quadra) ** jogos\n",
    "\n",
    "    return chance_total_sena, chance_total_quina, chance_total_quadra\n",
    "\n",
    "# Solicita ao usuário o número de jogos que deseja calcular a probabilidade\n",
    "num_jogos = int(input(\"Digite o número de jogos: \"))\n",
    "\n",
    "# Calcula a probabilidade usando a função\n",
    "prob_sena, prob_quina, prob_quadra = calcular_probabilidade_mega_sena(num_jogos)\n",
    "\n",
    "# Calcula os percentuais\n",
    "percentual_sena = prob_sena * 100\n",
    "percentual_quina = prob_quina * 100\n",
    "percentual_quadra = prob_quadra * 100\n",
    "\n",
    "# Exibe os resultados\n",
    "print('-'*99)\n",
    "print(f\"A probabilidade de ganhar na sena uma vez com {num_jogos} jogos é de aproximadamente 1 em {1/prob_sena:,.0f}.\")\n",
    "print(f\"O que corresponde a uma chance percentual de {percentual_sena:.6f}%.\\n\")\n",
    "print('-'*99)\n",
    "print(f\"A probabilidade de acertar 5 dos 6 números da sena com {num_jogos} jogos é de aproximadamente 1 em {1/prob_quina:,.0f}.\")\n",
    "print(f\"O que corresponde a uma chance percentual de {percentual_quina:.6f}%.\\n\")\n",
    "print('-'*99)\n",
    "print(f\"A probabilidade de acertar 4 dos 6 números da sena com {num_jogos} jogos é de aproximadamente 1 em {1/prob_quadra:,.0f}.\")\n",
    "print(f\"O que corresponde a uma chance percentual de {percentual_quadra:.6f}%.\\n\")\n",
    "print('-'*99)"
   ]
  },
  {
   "cell_type": "code",
   "execution_count": null,
   "id": "1d796c60",
   "metadata": {},
   "outputs": [],
   "source": []
  }
 ],
 "metadata": {
  "kernelspec": {
   "display_name": "Python 3 (ipykernel)",
   "language": "python",
   "name": "python3"
  },
  "language_info": {
   "codemirror_mode": {
    "name": "ipython",
    "version": 3
   },
   "file_extension": ".py",
   "mimetype": "text/x-python",
   "name": "python",
   "nbconvert_exporter": "python",
   "pygments_lexer": "ipython3",
   "version": "3.7.16"
  }
 },
 "nbformat": 4,
 "nbformat_minor": 5
}
